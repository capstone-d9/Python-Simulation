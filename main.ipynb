{
 "cells": [
  {
   "cell_type": "markdown",
   "id": "1008ff15",
   "metadata": {},
   "source": [
    "## Sensor Placement"
   ]
  },
  {
   "cell_type": "code",
   "execution_count": 1,
   "id": "9b3092c9",
   "metadata": {},
   "outputs": [],
   "source": [
    "import numpy as np\n",
    "from utils import SensorAgent, SensorPlacementSimulation, random_initial_temp, WaterWualitySimulation\n",
    "\n",
    "frame = np.full((550, 550, 3), [177, 220, 234], dtype=np.uint8)\n",
    "frame = random_initial_temp(frame=frame, num_regions=10)\n",
    "\n",
    "sensor_simulation = [\n",
    "    [\n",
    "        SensorAgent('region1', 138, 413, 15, 15, [255, 0, 0]),\n",
    "        SensorAgent('region2', 138, 138, 15, 15, [0, 255, 0]),\n",
    "        SensorAgent('region3', 413, 413, 15, 15, [255, 255, 0]),\n",
    "        SensorAgent('region4', 413, 138, 15, 15, [0, 0, 255]),\n",
    "    ],\n",
    "    [\n",
    "        SensorAgent('region1', 138, 413, 15, 15, [255, 0, 0]),\n",
    "        SensorAgent('region2', 138, 138, 15, 15, [0, 255, 0]),\n",
    "        SensorAgent('region3', 413, 413, 15, 15, [255, 255, 0]),\n",
    "    ],\n",
    "    [\n",
    "        SensorAgent('region1', 138, 413, 15, 15, [255, 0, 0]),\n",
    "        SensorAgent('region2', 138, 138, 15, 15, [0, 255, 0]),\n",
    "    ],\n",
    "]\n",
    "\n",
    "pond_args = {\n",
    "    'width': 550, 'height': 550, \n",
    "    'color':  [0, 220, 234],\n",
    "    'max_T': 38,\n",
    "    'min_T': 24,\n",
    "    'min_pH': 6.0,\n",
    "    'max_pH': 8,\n",
    "    'initial_frame': frame\n",
    "}"
   ]
  },
  {
   "cell_type": "code",
   "execution_count": null,
   "id": "29838fa5",
   "metadata": {},
   "outputs": [
    {
     "name": "stderr",
     "output_type": "stream",
     "text": [
      " 12%|█▎        | 3/24 [00:24<02:49,  8.07s/it]"
     ]
    }
   ],
   "source": [
    "for sensor, num in zip(sensor_simulation, [4, 3, 2]):\n",
    "    sim = SensorPlacementSimulation(sensor_agents=sensor, pond_args=pond_args)\n",
    "    sim.initSensor()\n",
    "    sim.simulate(num_iter=24)\n",
    "    sim.Animate(saveMode=True, file_path=f'result/simulation-with{num}.gif')\n"
   ]
  },
  {
   "cell_type": "code",
   "execution_count": null,
   "id": "4911f467",
   "metadata": {},
   "outputs": [],
   "source": [
    "for i in range(24):\n",
    "    names, val_temps = sim.corelationTemp(i)\n",
    "    for name, val in zip(names, val_temps):\n",
    "        print(f\"corelation{name}: {val}\")"
   ]
  },
  {
   "cell_type": "code",
   "execution_count": null,
   "id": "fe418359",
   "metadata": {},
   "outputs": [],
   "source": [
    "for i in range(24):\n",
    "    names, val_ph = sim.corelationPH(i)\n",
    "    for name, val in zip(names, val_ph):\n",
    "        print(f\"corelation{name}: {val}\")"
   ]
  },
  {
   "cell_type": "markdown",
   "id": "82d0b3ae",
   "metadata": {},
   "source": [
    "## Water Qualitu Simulation"
   ]
  },
  {
   "cell_type": "code",
   "execution_count": null,
   "id": "fbe04ac5",
   "metadata": {},
   "outputs": [],
   "source": [
    "sim = WaterWualitySimulation()\n",
    "sim.initSensor()\n",
    "sim.simulate()\n",
    "\n",
    "sim.AnimateSensors(\n",
    "    ['region1', 'region3'],\n",
    "    saveMode=True,\n",
    ")"
   ]
  }
 ],
 "metadata": {
  "kernelspec": {
   "display_name": "Python 3",
   "language": "python",
   "name": "python3"
  },
  "language_info": {
   "codemirror_mode": {
    "name": "ipython",
    "version": 3
   },
   "file_extension": ".py",
   "mimetype": "text/x-python",
   "name": "python",
   "nbconvert_exporter": "python",
   "pygments_lexer": "ipython3",
   "version": "3.10.5"
  }
 },
 "nbformat": 4,
 "nbformat_minor": 5
}
